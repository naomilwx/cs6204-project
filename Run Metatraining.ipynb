{
 "cells": [
  {
   "cell_type": "code",
   "execution_count": null,
   "metadata": {},
   "outputs": [],
   "source": [
    "import torch\n",
    "from torch import nn\n",
    "\n",
    "from utils.prototype import class_variance\n",
    "\n",
    "class ClsModel(nn.Module):\n",
    "    def __init__(self, imgtxt_encoder, attn_model, embed_dim, class_prototype_aggregator, fc_hidden_size=16) -> None:\n",
    "        super().__init__()\n",
    "        self.encoder = imgtxt_encoder\n",
    "        self.attn_model = attn_model\n",
    "        self.class_prototype_aggregator = class_prototype_aggregator\n",
    "        self.cls = nn.Sequential(\n",
    "            nn.Linear(embed_dim*3, fc_hidden_size),\n",
    "            nn.Linear(fc_hidden_size, 1)\n",
    "        )\n",
    "        self.cls_loss_criterion = nn.BCEWithLogitsLoss()\n",
    "\n",
    "    def set_class_prototype_details(self, class_labels, support_images, support_label_inds):\n",
    "        text_embeddings, image_embeddings = self.encoder(class_labels, support_images, pool=False)\n",
    "        self.class_label_embeddings = text_embeddings\n",
    "        support_prototypes = self.attn_model(text_embeddings, image_embeddings, support_label_inds)\n",
    "        self.class_prototypes = self.class_prototype_aggregator(support_prototypes.permute(1,0,2), support_label_inds)\n",
    "        self.class_prototypes_var = class_variance(support_prototypes.permute(1,0,2), support_label_inds)\n",
    "    \n",
    "    def update_support_and_classify(self, class_labels, support_images, support_label_inds, query_images):\n",
    "        self.set_class_prototype_details(class_labels, support_images, support_label_inds)\n",
    "        return self.forward(query_images)\n",
    "\n",
    "    def forward(self, query_images):\n",
    "        query_image_embeddings = self.encoder.embed_image(query_images, pool=False)\n",
    "        query_prototypes = self.attn_model(self.class_label_embeddings, query_image_embeddings)\n",
    "\n",
    "        # Prototypes: LxD (to repeat N times), variance: LxD (to repeat N times), query class prototype: NxLxD\n",
    "        class_prototypes = self.class_prototypes.expand(query_prototypes.shape[0], -1, -1)\n",
    "        class_prototypes_var = self.class_prototypes_var.expand(query_prototypes.shape[0], -1, -1)\n",
    "        out = self.cls(torch.cat((class_prototypes, class_prototypes_var, query_image_embeddings), dim=2))\n",
    "        return out.squeeze(2) # NxLx1 -> NxL\n",
    "    \n",
    "    def loss(self, predictions, query_label_inds):\n",
    "        return self.cls_loss_criterion(predictions, query_label_inds)"
   ]
  },
  {
   "cell_type": "code",
   "execution_count": null,
   "metadata": {},
   "outputs": [],
   "source": [
    "class MetaTrainer:\n",
    "    def __init__(self):\n",
    "        pass"
   ]
  }
 ],
 "metadata": {
  "language_info": {
   "name": "python"
  },
  "orig_nbformat": 4
 },
 "nbformat": 4,
 "nbformat_minor": 2
}
